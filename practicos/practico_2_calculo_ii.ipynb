{
  "nbformat": 4,
  "nbformat_minor": 0,
  "metadata": {
    "colab": {
      "provenance": [],
      "authorship_tag": "ABX9TyO0hgX2oA1VqEPgaU6Z48o3",
      "include_colab_link": true
    },
    "kernelspec": {
      "name": "python3",
      "display_name": "Python 3"
    },
    "language_info": {
      "name": "python"
    }
  },
  "cells": [
    {
      "cell_type": "markdown",
      "metadata": {
        "id": "view-in-github",
        "colab_type": "text"
      },
      "source": [
        "<a href=\"https://colab.research.google.com/github/nicolaciar/calculo-ii/blob/main/practicos/practico_2_calculo_ii.ipynb\" target=\"_parent\"><img src=\"https://colab.research.google.com/assets/colab-badge.svg\" alt=\"Open In Colab\"/></a>"
      ]
    },
    {
      "cell_type": "markdown",
      "source": [
        "# Práctico 2 - Calculo II - FaMAF \n",
        "## Sucesiones y Series"
      ],
      "metadata": {
        "id": "EiKSlLms-b_d"
      }
    },
    {
      "cell_type": "markdown",
      "source": [
        "Por Nicolas Laciar\n",
        "\n",
        "Mail: nicolas.laciar@mi.unc.edu.ar"
      ],
      "metadata": {
        "id": "MhZr2xxx-yDs"
      }
    },
    {
      "cell_type": "markdown",
      "source": [
        "### Ejercicio 1\n",
        "\n",
        "Determinar si cada una de las siguientes sucesiones es convergente o no. Si la sucesión converge, calcular su lı́mite."
      ],
      "metadata": {
        "id": "6TAmlPy2-iDt"
      }
    },
    {
      "cell_type": "markdown",
      "source": [
        "\n",
        "\n",
        "---\n",
        "\n",
        "\n",
        "a) $a_n = \\dfrac{5-2n}{3n-7}$ \n",
        "\n"
      ],
      "metadata": {
        "id": "RkuxwgaK_1U1"
      }
    },
    {
      "cell_type": "markdown",
      "source": [
        "En este caso podemos simplemente calcular el límite dividiendo todo por $n$:\n",
        "$$\\lim_{n \\to ∞} a_n = \\lim_{n \\to ∞} \\frac{5-2n}{3n-7} = \\lim_{n \\to ∞} \\frac{\\frac{5}{n}-2}{3-\\frac{7}{n}} = \\frac{-2}{3}$$\n",
        "\n",
        "Por lo que la sucesión **converge**.\n",
        "\n",
        "\n",
        "---\n",
        "\n"
      ],
      "metadata": {
        "id": "ya2TGaxDDAgA"
      }
    },
    {
      "cell_type": "markdown",
      "source": [
        "b) $a_n= \\dfrac{n}{\\ln(n+1)}$\n",
        "\n"
      ],
      "metadata": {
        "id": "yWLa030bBcA9"
      }
    },
    {
      "cell_type": "markdown",
      "source": [
        "Sea:\n",
        "\n",
        "$$\n",
        "f(x) =\\frac{x}{\\ln(x+1)}\n",
        "$$\n",
        "Por la *regla de L'hopital* se tiene que:\n",
        "\n",
        "$$\n",
        "\\lim_{x \\to ∞} f(x) = \\lim_{x \\to ∞}\\frac{x}{\\ln(x+1)} = \\lim_{x \\to ∞} \\frac{1}{\\frac{1}{x+1}} = \\lim_{x \\to ∞}x+1=\\infty \n",
        "$$\n",
        "\n",
        "y como $f(n) = a_n$ para todo $n\\geq 1$, entonces:\n",
        "\n",
        "$$\n",
        "\\lim_{n\\to∞} a_n = \\lim_{n\\to∞}\\frac{n}{\\ln(n+1)} = \\infty\n",
        "$$\n",
        "\n",
        "y por lo tanto la sucesión **diverge**.\n",
        "\n",
        "---\n",
        "\n"
      ],
      "metadata": {
        "id": "_B-HS3liDBUc"
      }
    },
    {
      "cell_type": "markdown",
      "source": [
        "c) $a_n = n-\\sqrt{n^2-4n}$\n"
      ],
      "metadata": {
        "id": "BJYtzA_dGEJI"
      }
    },
    {
      "cell_type": "markdown",
      "source": [
        "Comencemos por simplificar la expresión dentro de la raíz cuadrada:\n",
        "\n",
        "$$n^2 - 4n = n(n-4)$$\n",
        "\n",
        "Luego, podemos reescribir $a_n$ como:\n",
        "\n",
        "$$a_n = n - \\sqrt{n(n-4)}$$\n",
        "\n",
        "A continuación, podemos multiplicar el numerador y el denominador de $\\sqrt{n(n-4)}$ por $1+\\frac{4}{n}$:\n",
        "\n",
        "$$\\begin{aligned} a_n &= n - \\sqrt{n(n-4)} \\cdot \\frac{1+\\frac{4}{n}}{1+\\frac{4}{n}} \\ &= n - \\frac{\\sqrt{n(n-4)}(1+\\frac{4}{n})}{1+\\frac{4}{n}} \\ &= n - \\frac{\\sqrt{n^2 - 4n + 16}}{1+\\frac{4}{n}} \\ &= n - \\frac{\\sqrt{(n-2)^2 + 12}}{1+\\frac{4}{n}} \\end{aligned}$$\n",
        "\n",
        "Observamos que $\\sqrt{(n-2)^2+12}$ es siempre mayor o igual a $\\sqrt{12}$. Por lo tanto, podemos decir que:\n",
        "\n",
        "$$a_n \\leq n - \\frac{\\sqrt{12}}{1+\\frac{4}{n}}$$\n",
        "\n",
        "Tomando el límite cuando $n$ tiende a infinito en ambos lados de la desigualdad, obtenemos:\n",
        "\n",
        "$$\\lim_{n \\to \\infty} a_n \\leq \\lim_{n \\to \\infty} \\left( n - \\frac{\\sqrt{12}}{1+\\frac{4}{n}} \\right) = \\infty$$\n",
        "\n",
        "Por lo tanto, concluimos que la sucesión $a_n$ **diverge**.\n",
        "\n",
        "---\n",
        "\n"
      ],
      "metadata": {
        "id": "cBBnmrZDHWJb"
      }
    },
    {
      "cell_type": "markdown",
      "source": [
        "d) $a_n = 20(-1)^{n+1}$"
      ],
      "metadata": {
        "id": "ZRb3v8lUHvRW"
      }
    },
    {
      "cell_type": "markdown",
      "source": [
        "Tenemos que:\n",
        "\n",
        "$$\n",
        "\\lim_{n\\to∞}a_n = \\lim_{n\\to∞}20(-1)^{n+1}=\\lim_{n\\to∞}20(-1)^{n}(-1) = (-1)\\lim_{n\\to∞}(-1)^n\n",
        "$$\n",
        "\n",
        "Como $(-1)^n$ diverge (alterna entre $-1$ y $1$), entonces $a_n$ **diverge** (alterna entre $-20$ y $20$).\n",
        "\n",
        "Otra forma sería considerar las subsucesiones:\n",
        "\n",
        "$$\n",
        "a_{n_1} =  20(-1)^{n+1} \\hspace{1cm} \\text{y} \\hspace{1cm} a_{n_2} =20(-1)^{n+1}\n",
        "$$\n",
        "\n",
        "Con $n_1 \\in \\{n\\in\\mathbb{N}: n \\text{ es par}\\}$ y $n_2 \\in \\{n\\in\\mathbb{N}: n \\text{ es impar}\\}$ y ver que siendo ambas subsucesiones de la misma sucesión $a_n$, convergen a límites distintos y por lo tanto $a_n$ debe diverger.\n",
        "\n",
        "---\n",
        "\n"
      ],
      "metadata": {
        "id": "sre7O5bJIVX6"
      }
    },
    {
      "cell_type": "markdown",
      "source": [
        "e) $a_n = \\left( -\\dfrac{1}{3}\\right)^n$ "
      ],
      "metadata": {
        "id": "QANxgVSSKnbR"
      }
    },
    {
      "cell_type": "markdown",
      "source": [
        "Tenemos que:\n",
        "\n",
        "$$\n",
        "\\lim_{n\\to∞} a_n = \\lim_{n\\to∞} \\left( -\\dfrac{1}{3}\\right)^n = \\lim_{n\\to∞}\\frac{(-1)^n}{3^n}\n",
        "$$\n",
        "Ahora, observemos que:\n",
        "\n",
        "$$\n",
        "-\\frac{1}{3^n} \\leq \\frac{(-1)^n}{3^n} \\leq \\frac{1}{3^n}\n",
        "$$\n",
        "\n",
        "y como:\n",
        "\n",
        "$$\n",
        "\\lim_{n\\to∞} -\\frac{1}{3^n} = \\lim_{n\\to∞} \\frac{1}{3^n} = 0\n",
        "$$\n",
        "\n",
        "Por el *lema del Sandwich* para sucesiones, se deduce:\n",
        "\n",
        "$$\n",
        "\\lim_{n\\to∞}\\frac{(-1)^n}{3^n} = 0\n",
        "$$\n",
        "\n",
        "Con lo cual, la sucesión **converge**.\n",
        "\n",
        "---\n",
        "\n"
      ],
      "metadata": {
        "id": "e_AuHZzsLR2T"
      }
    },
    {
      "cell_type": "markdown",
      "source": [
        "f) $a_n = n^3e^{-n}$\n"
      ],
      "metadata": {
        "id": "lExxJCR3MxiR"
      }
    },
    {
      "cell_type": "markdown",
      "source": [
        "Observemos que la función:\n",
        "\n",
        "$$\n",
        "f(x) = x^3e^{-x} = \\frac{x^3}{e^x}\n",
        "$$\n",
        "\n",
        "por la regla de L'hopital, tiene límite:\n",
        "\n",
        "$$\n",
        "\\lim_{x\\to∞}\\frac{x^3}{e^x} = \\lim_{x\\to∞}\\frac{3x^2}{e^x} = \\lim_{x\\to∞}\\frac{6x}{e^x} = \\lim_{x\\to∞}\\frac{6}{e^x} = 0\n",
        "$$\n",
        "\n",
        "pues $e^x \\to \\infty$ cuando $x\\to∞$. Luego, como $a_n = f(a_n)$, tenemos que\n",
        "\n",
        "$$\n",
        "\\lim_{n\\to∞}a_n = 0\n",
        "$$\n",
        "\n",
        "es decir, **converge**.\n",
        "\n",
        "---\n",
        "\n"
      ],
      "metadata": {
        "id": "Pas3izTYND0w"
      }
    },
    {
      "cell_type": "markdown",
      "source": [
        "g) $a_n = \\cos(n\\pi)$"
      ],
      "metadata": {
        "id": "xjrZ9e8XOQ0S"
      }
    },
    {
      "cell_type": "markdown",
      "source": [
        "Si observamos el gráfico:"
      ],
      "metadata": {
        "id": "lj2l3Ur3Ofle"
      }
    },
    {
      "cell_type": "code",
      "source": [
        "#@title \n",
        "import matplotlib.pyplot as plt\n",
        "import numpy as np\n",
        "\n",
        "# Crear los valores de x y y\n",
        "x = np.linspace(0, 5*np.pi, 1000)\n",
        "y = np.cos(x)\n",
        "\n",
        "# Crear la figura y los ejes\n",
        "fig, ax = plt.subplots()\n",
        "\n",
        "# Graficar la función cos(x)\n",
        "ax.plot(x, y)\n",
        "\n",
        "# Agregar las líneas de los ejes\n",
        "ax.axhline(y=0, color='k')\n",
        "ax.axvline(x=0, color='k')\n",
        "\n",
        "# Establecer los límites de los ejes\n",
        "ax.set_xlim([0, 5*np.pi])\n",
        "ax.set_ylim([-1, 1])\n",
        "\n",
        "# Agregar etiquetas en el eje x\n",
        "x_ticks = [np.pi, 2*np.pi, 3*np.pi, 4*np.pi]\n",
        "x_ticklabels = [r'$\\pi$', r'$2\\pi$', r'$3\\pi$', r'$4\\pi$']\n",
        "ax.set_xticks(x_ticks)\n",
        "ax.set_xticklabels(x_ticklabels)\n",
        "\n",
        "# Agregar etiquetas en los ejes\n",
        "ax.set_xlabel('x')\n",
        "ax.set_ylabel('y')\n",
        "\n",
        "\n",
        "# Mostrar el gráfico\n",
        "plt.show()"
      ],
      "metadata": {
        "colab": {
          "base_uri": "https://localhost:8080/",
          "height": 285
        },
        "cellView": "form",
        "id": "kRIbHBhDRxT9",
        "outputId": "01041992-c575-46a4-e2de-1a4ada01717b"
      },
      "execution_count": null,
      "outputs": [
        {
          "output_type": "display_data",
          "data": {
            "text/plain": [
              "<Figure size 432x288 with 1 Axes>"
            ],
            "image/png": "[encoded data removed]"
          },
          "metadata": {
            "needs_background": "light"
          }
        }
      ]
    },
    {
      "cell_type": "markdown",
      "source": [
        "Podemos deducir que cuando $x= n\\pi$, para $n$ natural, tenemos que $\\cos(x)$ alterna entre $1$ y $-1$ ($\\cos(\\pi) = 1$, $\\cos(2\\pi) = -1$, $\\cos(3\\pi) = 1$ etc.) con lo cual $a_n$ es alternante y por esto **divergente**.\n",
        "\n"
      ],
      "metadata": {
        "id": "1dMCmkjZSdtA"
      }
    },
    {
      "cell_type": "markdown",
      "source": [
        "De forma más rigurosa, podemos demostrar la divergencia de $a_n$ considerando las siguientes subsucesiones:\n",
        "\n",
        "$$\n",
        "(a_{2k})_{k\\in\\mathbb{N}}= \\cos((2k)\\pi) \\hspace{1cm}\\text{y}\\hspace{1cm} (a_{2k-1})_{k\\in\\mathbb{N}}= \\cos((2k-1)\\pi) \n",
        "$$\n",
        "\n",
        "luego para todo $k$, $\\cos((2k)\\pi)= 1$ y $\\cos((2k+1)\\pi)=-1$ con lo cual:\n",
        "\n",
        "$$\n",
        "\\lim_{k \\to \\infty} a_{2k} = 1 \\neq -1 = \\lim_{k \\to \\infty} a_{2k-1}\n",
        "$$\n",
        "\n",
        "con lo cual la sucesión original $a_n$ **diverge**.\n",
        "\n",
        "---\n",
        "\n"
      ],
      "metadata": {
        "id": "u7e-1j-9Tq8d"
      }
    },
    {
      "cell_type": "markdown",
      "source": [
        "h) $n\\sin(6/n)$"
      ],
      "metadata": {
        "id": "EFCVU2GlWFmn"
      }
    },
    {
      "cell_type": "markdown",
      "source": [
        "Sea:\n",
        "\n",
        "$$\n",
        "f(x) = x\\sin\\left(\\frac{6}{x}\\right)\n",
        "$$\n"
      ],
      "metadata": {
        "id": "aQOgmDx0W3jN"
      }
    },
    {
      "cell_type": "markdown",
      "source": [
        "### Ejercicio 2\n",
        "\n",
        "Determinar si cada una de las siguientes sucesiones es:\n",
        "\n",
        "1. acotada superior y/o infe-\n",
        "riormente;\n",
        "2. positiva o negativa (a partir de cierto $n_0$ ); \n",
        "3. creciente, decreciente o alternante;\n",
        "4. convergente, divergente, divergente a $∞$ o $−∞$.\n",
        "\n",
        "---\n",
        "\n"
      ],
      "metadata": {
        "id": "GkgUEMaYYDZC"
      }
    },
    {
      "cell_type": "markdown",
      "source": [
        "a) $a_n = \\dfrac{2n}{n^2+1}$"
      ],
      "metadata": {
        "id": "ZBO3xJMPYrY5"
      }
    }
  ]
}